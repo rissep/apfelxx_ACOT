{
 "cells": [
  {
   "cell_type": "markdown",
   "metadata": {},
   "source": [
    "# Introduction\n",
    "\n",
    "In this notebook we look at the behaviour of the funtion:\n",
    "$$\n",
    "F(x) = \\frac12f(x) + \\frac12\\,,\n",
    "$$\n",
    "with:\n",
    "$$\n",
    "f(x) = Ax^\\alpha(1-x)^\\beta\n",
    "$$\n",
    "where the parameters $\\alpha$ and $\\beta$ are randomly extracted in the ranges:\n",
    "$$\n",
    "\\alpha\\in [0, 10)\\quad\\mbox{and}\\quad\\beta \\in(0, 10)\\,,\n",
    "$$\n",
    "and:\n",
    "$$\n",
    "-\\frac{(\\alpha+\\beta)^{\\alpha+\\beta}}{\\alpha^\\alpha\\beta^\\beta}\\leq\n",
    "A\\leq \\frac{(\\alpha+\\beta)^{\\alpha+\\beta}}{\\alpha^\\alpha\\beta^\\beta}\\,.\n",
    "$$"
   ]
  },
  {
   "cell_type": "code",
   "execution_count": null,
   "metadata": {},
   "outputs": [],
   "source": [
    "import numpy as np\n",
    "import matplotlib.pyplot as pl\n",
    "\n",
    "expmax = 2\n",
    "nrand = 100\n",
    "\n",
    "np.random.seed(1234)\n",
    "alpha = expmax * np.random.rand(nrand)\n",
    "beta  = expmax * np.random.rand(nrand)\n",
    "\n",
    "A = [ 2 * a * np.random.rand(1)[0] - a  for a in (alpha + beta)**(alpha+beta) / alpha**alpha / beta**beta ]\n",
    "\n",
    "def F(x, n):\n",
    "    return A[n] * x**alpha[n] * ( 1 - x )**beta[n] / 2 + 0.5"
   ]
  },
  {
   "cell_type": "code",
   "execution_count": null,
   "metadata": {},
   "outputs": [],
   "source": [
    "# Compute random function\n",
    "n = 1000\n",
    "xmin = 0.01\n",
    "\n",
    "# Define plot parameters\n",
    "pl.style.use('seaborn-talk')\n",
    "pl.rc('axes', linewidth=2)\n",
    "ax = pl.gca()\n",
    "\n",
    "# Adjust canvas\n",
    "pl.xlim(xmin, 1)\n",
    "pl.ylim(-0.1, 1.1)\n",
    "pl.xticks(size=20)\n",
    "pl.yticks(size=20)\n",
    "\n",
    "# Axis labels\n",
    "pl.xlabel(r'$x$', fontsize=22)\n",
    "pl.ylabel(r'$F(x)$', fontsize=22)\n",
    "\n",
    "# Title\n",
    "pl.title(\"Random flavour-separation functions\", fontsize=22)\n",
    "\n",
    "# Compute functions\n",
    "sx = np.linspace(xmin, 1, num = n)\n",
    "for n in range(nrand):\n",
    "    pl.plot(sx, F(sx, n), 'r', linewidth=1)\n",
    "\n",
    "# Boundaries\n",
    "pl.axhline(y=0, xmin=0, xmax=1, linewidth=2, color = 'k', linestyle='--')\n",
    "pl.axhline(y=1, xmin=0, xmax=1, linewidth=2, color = 'k', linestyle='--')\n",
    "pl.axhline(y=0.5, xmin=0, xmax=1, linewidth=2, color = 'k', linestyle='-')\n",
    "\n",
    "# Save figure on file\n",
    "pl.savefig(\"RandomFunctions.pdf\")"
   ]
  }
 ],
 "metadata": {
  "kernelspec": {
   "display_name": "Python 3",
   "language": "python",
   "name": "python3"
  },
  "language_info": {
   "codemirror_mode": {
    "name": "ipython",
    "version": 3
   },
   "file_extension": ".py",
   "mimetype": "text/x-python",
   "name": "python",
   "nbconvert_exporter": "python",
   "pygments_lexer": "ipython3",
   "version": "3.7.3"
  }
 },
 "nbformat": 4,
 "nbformat_minor": 2
}
